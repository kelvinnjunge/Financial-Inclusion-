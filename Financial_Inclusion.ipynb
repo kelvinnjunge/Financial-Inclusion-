{
  "nbformat": 4,
  "nbformat_minor": 0,
  "metadata": {
    "colab": {
      "name": "Financial Inclusion",
      "provenance": [],
      "collapsed_sections": [],
      "toc_visible": true,
      "authorship_tag": "ABX9TyME9K/9+SUzXFPKFdHJOBTd",
      "include_colab_link": true
    },
    "kernelspec": {
      "name": "python3",
      "display_name": "Python 3"
    },
    "language_info": {
      "name": "python"
    }
  },
  "cells": [
    {
      "cell_type": "markdown",
      "metadata": {
        "id": "view-in-github",
        "colab_type": "text"
      },
      "source": [
        "<a href=\"https://colab.research.google.com/github/kelvinnjunge/Financial-Inclusion-/blob/main/Financial_Inclusion.ipynb\" target=\"_parent\"><img src=\"https://colab.research.google.com/assets/colab-badge.svg\" alt=\"Open In Colab\"/></a>"
      ]
    },
    {
      "cell_type": "markdown",
      "metadata": {
        "id": "VOAW_g2K8Sgo"
      },
      "source": [
        "# Exploratory Data Analysis(Financial Inclusion Dataset)"
      ]
    },
    {
      "cell_type": "markdown",
      "metadata": {
        "id": "SWSKz6Ro9qSl"
      },
      "source": [
        "# 1.0 Defining the Question"
      ]
    },
    {
      "cell_type": "markdown",
      "metadata": {
        "id": "shhZlpGYGqXu"
      },
      "source": [
        "##a) Specifying the Data Analytic Question\n",
        "\n",
        "Financial Inclusion remains one of the main obstacles to economic and human development in Africa. Access to bank accounts is an essential contributor to long-term economic growth. The research problem is to figure out how we can predict which individuals are most likely to have or use a bank account.\n",
        "\n"
      ]
    },
    {
      "cell_type": "markdown",
      "metadata": {
        "id": "gHgyGcI0G8IK"
      },
      "source": [
        "## b) Defining the Metric for Success\n",
        "\n",
        "Based on the given data(factors) being able to predict ownership/access of a bank account by an individual\n",
        "\n",
        "\n"
      ]
    },
    {
      "cell_type": "markdown",
      "metadata": {
        "id": "NPhixhHnHGJ_"
      },
      "source": [
        "## c) Understanding the context\n",
        "\n",
        "Despite the proliferation of mobile money in Africa and the growth of innovative fintech solutions, banks still play a pivotal role in facilitating access to financial services.\n",
        "\n",
        "Access to bank accounts enables households to save and facilitate payments while also helping businesses build up their credit-worthiness and improve their access to other financial services.\n",
        "\n",
        "Therefore, access to bank accounts is an essential contributor to long-term economic growth."
      ]
    },
    {
      "cell_type": "markdown",
      "metadata": {
        "id": "WmtH-hRaHfQf"
      },
      "source": [
        "## d) Recording the Experimental Design\n",
        "\n",
        "We'll perform Explorative Data Analysis, i.e Univariate, Bivariate and Multivariate Analysis to get the relationships and differences between different variables to come up with a prediction on individuals who are most likely to have or use a bank account\n",
        "\n"
      ]
    },
    {
      "cell_type": "markdown",
      "metadata": {
        "id": "Ot3fxWmuHsOO"
      },
      "source": [
        "e) Data Relevance\n",
        "\n",
        "The main dataset contains demographic information and what financial services are used by individuals across East Africa i.e(Kenya, Rwanda, Tanzania, and Uganda). This data was extracted from various Finscope surveys ranging from 2016 to 2018.\n",
        "\n",
        "The data contains important variables such as Gender, Education level, Age, persons with a bank account, Job type which are very useful in determining whether the different groups have access to a bank account or not"
      ]
    },
    {
      "cell_type": "markdown",
      "metadata": {
        "id": "Pzfc1JrhH5ou"
      },
      "source": [
        "\n",
        "# 2. Reading the Data"
      ]
    },
    {
      "cell_type": "code",
      "metadata": {
        "id": "tzouMyT49m7W"
      },
      "source": [
        "#Importing relevant libraries\n",
        "import pandas as pd\n",
        "import numpy as np\n",
        "import matplotlib.pyplot as plt\n",
        "import seaborn as sns"
      ],
      "execution_count": 1,
      "outputs": []
    },
    {
      "cell_type": "code",
      "metadata": {
        "id": "13ui6sgvIKJi"
      },
      "source": [
        "# Loading the Data from the source i.e. csv\n",
        "f = pd.read_csv('Financial Dataset - 1.csv')"
      ],
      "execution_count": 2,
      "outputs": []
    },
    {
      "cell_type": "markdown",
      "metadata": {
        "id": "RbPpdlKXJjk3"
      },
      "source": [
        "# 3. Checking the Data"
      ]
    },
    {
      "cell_type": "code",
      "metadata": {
        "colab": {
          "base_uri": "https://localhost:8080/"
        },
        "id": "ywUa-VIqJpIN",
        "outputId": "6284a363-5a75-4cdc-9b67-8bbfdb446572"
      },
      "source": [
        "# Determining the no. of records in our dataset\n",
        "#\n",
        "f.shape"
      ],
      "execution_count": 3,
      "outputs": [
        {
          "output_type": "execute_result",
          "data": {
            "text/plain": [
              "(23524, 13)"
            ]
          },
          "metadata": {
            "tags": []
          },
          "execution_count": 3
        }
      ]
    },
    {
      "cell_type": "code",
      "metadata": {
        "colab": {
          "base_uri": "https://localhost:8080/",
          "height": 374
        },
        "id": "eVB7TnF9J5BU",
        "outputId": "c5d9e1a5-2e2f-46f8-8899-e9a8792d8671"
      },
      "source": [
        "# Previewing the top of our dataset\n",
        "#\n",
        "f.head()"
      ],
      "execution_count": 4,
      "outputs": [
        {
          "output_type": "execute_result",
          "data": {
            "text/html": [
              "<div>\n",
              "<style scoped>\n",
              "    .dataframe tbody tr th:only-of-type {\n",
              "        vertical-align: middle;\n",
              "    }\n",
              "\n",
              "    .dataframe tbody tr th {\n",
              "        vertical-align: top;\n",
              "    }\n",
              "\n",
              "    .dataframe thead th {\n",
              "        text-align: right;\n",
              "    }\n",
              "</style>\n",
              "<table border=\"1\" class=\"dataframe\">\n",
              "  <thead>\n",
              "    <tr style=\"text-align: right;\">\n",
              "      <th></th>\n",
              "      <th>country</th>\n",
              "      <th>year</th>\n",
              "      <th>uniqueid</th>\n",
              "      <th>Has a Bank account</th>\n",
              "      <th>Type of Location</th>\n",
              "      <th>Cell Phone Access</th>\n",
              "      <th>household_size</th>\n",
              "      <th>Respondent Age</th>\n",
              "      <th>gender_of_respondent</th>\n",
              "      <th>The relathip with head</th>\n",
              "      <th>marital_status</th>\n",
              "      <th>Level of Educuation</th>\n",
              "      <th>Type of Job</th>\n",
              "    </tr>\n",
              "  </thead>\n",
              "  <tbody>\n",
              "    <tr>\n",
              "      <th>0</th>\n",
              "      <td>Kenya</td>\n",
              "      <td>2018</td>\n",
              "      <td>uniqueid_1</td>\n",
              "      <td>Yes</td>\n",
              "      <td>Rural</td>\n",
              "      <td>Yes</td>\n",
              "      <td>3.0</td>\n",
              "      <td>24.0</td>\n",
              "      <td>Female</td>\n",
              "      <td>Spouse</td>\n",
              "      <td>Married/Living together</td>\n",
              "      <td>Secondary education</td>\n",
              "      <td>Self employed</td>\n",
              "    </tr>\n",
              "    <tr>\n",
              "      <th>1</th>\n",
              "      <td>Kenya</td>\n",
              "      <td>2018</td>\n",
              "      <td>uniqueid_2</td>\n",
              "      <td>No</td>\n",
              "      <td>Rural</td>\n",
              "      <td>No</td>\n",
              "      <td>5.0</td>\n",
              "      <td>70.0</td>\n",
              "      <td>Female</td>\n",
              "      <td>Head of Household</td>\n",
              "      <td>Widowed</td>\n",
              "      <td>No formal education</td>\n",
              "      <td>Government Dependent</td>\n",
              "    </tr>\n",
              "    <tr>\n",
              "      <th>2</th>\n",
              "      <td>Kenya</td>\n",
              "      <td>2018</td>\n",
              "      <td>uniqueid_3</td>\n",
              "      <td>Yes</td>\n",
              "      <td>Urban</td>\n",
              "      <td>Yes</td>\n",
              "      <td>5.0</td>\n",
              "      <td>26.0</td>\n",
              "      <td>Male</td>\n",
              "      <td>Other relative</td>\n",
              "      <td>Single/Never Married</td>\n",
              "      <td>Vocational/Specialised training</td>\n",
              "      <td>Self employed</td>\n",
              "    </tr>\n",
              "    <tr>\n",
              "      <th>3</th>\n",
              "      <td>Kenya</td>\n",
              "      <td>2018</td>\n",
              "      <td>uniqueid_4</td>\n",
              "      <td>No</td>\n",
              "      <td>Rural</td>\n",
              "      <td>Yes</td>\n",
              "      <td>5.0</td>\n",
              "      <td>34.0</td>\n",
              "      <td>Female</td>\n",
              "      <td>Head of Household</td>\n",
              "      <td>Married/Living together</td>\n",
              "      <td>Primary education</td>\n",
              "      <td>Formally employed Private</td>\n",
              "    </tr>\n",
              "    <tr>\n",
              "      <th>4</th>\n",
              "      <td>Kenya</td>\n",
              "      <td>2018</td>\n",
              "      <td>uniqueid_5</td>\n",
              "      <td>No</td>\n",
              "      <td>Urban</td>\n",
              "      <td>No</td>\n",
              "      <td>8.0</td>\n",
              "      <td>26.0</td>\n",
              "      <td>Male</td>\n",
              "      <td>Child</td>\n",
              "      <td>Single/Never Married</td>\n",
              "      <td>Primary education</td>\n",
              "      <td>Informally employed</td>\n",
              "    </tr>\n",
              "  </tbody>\n",
              "</table>\n",
              "</div>"
            ],
            "text/plain": [
              "  country  year  ...              Level of Educuation                Type of Job\n",
              "0   Kenya  2018  ...              Secondary education              Self employed\n",
              "1   Kenya  2018  ...              No formal education       Government Dependent\n",
              "2   Kenya  2018  ...  Vocational/Specialised training              Self employed\n",
              "3   Kenya  2018  ...                Primary education  Formally employed Private\n",
              "4   Kenya  2018  ...                Primary education        Informally employed\n",
              "\n",
              "[5 rows x 13 columns]"
            ]
          },
          "metadata": {
            "tags": []
          },
          "execution_count": 4
        }
      ]
    },
    {
      "cell_type": "code",
      "metadata": {
        "colab": {
          "base_uri": "https://localhost:8080/",
          "height": 356
        },
        "id": "gPx4ZPYfKCaj",
        "outputId": "c1266327-d1bc-4450-ef72-b1e6bf116695"
      },
      "source": [
        "# Previewing the bottom of our dataset\n",
        "# \n",
        "f.tail()"
      ],
      "execution_count": 5,
      "outputs": [
        {
          "output_type": "execute_result",
          "data": {
            "text/html": [
              "<div>\n",
              "<style scoped>\n",
              "    .dataframe tbody tr th:only-of-type {\n",
              "        vertical-align: middle;\n",
              "    }\n",
              "\n",
              "    .dataframe tbody tr th {\n",
              "        vertical-align: top;\n",
              "    }\n",
              "\n",
              "    .dataframe thead th {\n",
              "        text-align: right;\n",
              "    }\n",
              "</style>\n",
              "<table border=\"1\" class=\"dataframe\">\n",
              "  <thead>\n",
              "    <tr style=\"text-align: right;\">\n",
              "      <th></th>\n",
              "      <th>country</th>\n",
              "      <th>year</th>\n",
              "      <th>uniqueid</th>\n",
              "      <th>Has a Bank account</th>\n",
              "      <th>Type of Location</th>\n",
              "      <th>Cell Phone Access</th>\n",
              "      <th>household_size</th>\n",
              "      <th>Respondent Age</th>\n",
              "      <th>gender_of_respondent</th>\n",
              "      <th>The relathip with head</th>\n",
              "      <th>marital_status</th>\n",
              "      <th>Level of Educuation</th>\n",
              "      <th>Type of Job</th>\n",
              "    </tr>\n",
              "  </thead>\n",
              "  <tbody>\n",
              "    <tr>\n",
              "      <th>23519</th>\n",
              "      <td>Uganda</td>\n",
              "      <td>2018</td>\n",
              "      <td>uniqueid_2113</td>\n",
              "      <td>No</td>\n",
              "      <td>Rural</td>\n",
              "      <td>Yes</td>\n",
              "      <td>4.0</td>\n",
              "      <td>48.0</td>\n",
              "      <td>Female</td>\n",
              "      <td>Head of Household</td>\n",
              "      <td>Divorced/Seperated</td>\n",
              "      <td>No formal education</td>\n",
              "      <td>Other Income</td>\n",
              "    </tr>\n",
              "    <tr>\n",
              "      <th>23520</th>\n",
              "      <td>Uganda</td>\n",
              "      <td>2018</td>\n",
              "      <td>uniqueid_2114</td>\n",
              "      <td>No</td>\n",
              "      <td>Rural</td>\n",
              "      <td>Yes</td>\n",
              "      <td>2.0</td>\n",
              "      <td>27.0</td>\n",
              "      <td>Female</td>\n",
              "      <td>Head of Household</td>\n",
              "      <td>Single/Never Married</td>\n",
              "      <td>Secondary education</td>\n",
              "      <td>Other Income</td>\n",
              "    </tr>\n",
              "    <tr>\n",
              "      <th>23521</th>\n",
              "      <td>Uganda</td>\n",
              "      <td>2018</td>\n",
              "      <td>uniqueid_2115</td>\n",
              "      <td>No</td>\n",
              "      <td>Rural</td>\n",
              "      <td>Yes</td>\n",
              "      <td>5.0</td>\n",
              "      <td>27.0</td>\n",
              "      <td>Female</td>\n",
              "      <td>Parent</td>\n",
              "      <td>Widowed</td>\n",
              "      <td>Primary education</td>\n",
              "      <td>Other Income</td>\n",
              "    </tr>\n",
              "    <tr>\n",
              "      <th>23522</th>\n",
              "      <td>Uganda</td>\n",
              "      <td>2018</td>\n",
              "      <td>uniqueid_2116</td>\n",
              "      <td>No</td>\n",
              "      <td>Urban</td>\n",
              "      <td>Yes</td>\n",
              "      <td>7.0</td>\n",
              "      <td>30.0</td>\n",
              "      <td>Female</td>\n",
              "      <td>Parent</td>\n",
              "      <td>Divorced/Seperated</td>\n",
              "      <td>Secondary education</td>\n",
              "      <td>Self employed</td>\n",
              "    </tr>\n",
              "    <tr>\n",
              "      <th>23523</th>\n",
              "      <td>Uganda</td>\n",
              "      <td>2018</td>\n",
              "      <td>uniqueid_2117</td>\n",
              "      <td>No</td>\n",
              "      <td>Rural</td>\n",
              "      <td>Yes</td>\n",
              "      <td>10.0</td>\n",
              "      <td>20.0</td>\n",
              "      <td>Male</td>\n",
              "      <td>Child</td>\n",
              "      <td>Single/Never Married</td>\n",
              "      <td>Secondary education</td>\n",
              "      <td>No Income</td>\n",
              "    </tr>\n",
              "  </tbody>\n",
              "</table>\n",
              "</div>"
            ],
            "text/plain": [
              "      country  year  ...  Level of Educuation    Type of Job\n",
              "23519  Uganda  2018  ...  No formal education   Other Income\n",
              "23520  Uganda  2018  ...  Secondary education   Other Income\n",
              "23521  Uganda  2018  ...    Primary education   Other Income\n",
              "23522  Uganda  2018  ...  Secondary education  Self employed\n",
              "23523  Uganda  2018  ...  Secondary education      No Income\n",
              "\n",
              "[5 rows x 13 columns]"
            ]
          },
          "metadata": {
            "tags": []
          },
          "execution_count": 5
        }
      ]
    },
    {
      "cell_type": "code",
      "metadata": {
        "colab": {
          "base_uri": "https://localhost:8080/"
        },
        "id": "yesGQjDSKVpD",
        "outputId": "d79aa68e-58d6-4c08-ed22-1450a1ea526d"
      },
      "source": [
        "# Checking whether each column has an appropriate info\n",
        "#\n",
        "f.info"
      ],
      "execution_count": 6,
      "outputs": [
        {
          "output_type": "execute_result",
          "data": {
            "text/plain": [
              "<bound method DataFrame.info of       country  year  ...              Level of Educuation                Type of Job\n",
              "0       Kenya  2018  ...              Secondary education              Self employed\n",
              "1       Kenya  2018  ...              No formal education       Government Dependent\n",
              "2       Kenya  2018  ...  Vocational/Specialised training              Self employed\n",
              "3       Kenya  2018  ...                Primary education  Formally employed Private\n",
              "4       Kenya  2018  ...                Primary education        Informally employed\n",
              "...       ...   ...  ...                              ...                        ...\n",
              "23519  Uganda  2018  ...              No formal education               Other Income\n",
              "23520  Uganda  2018  ...              Secondary education               Other Income\n",
              "23521  Uganda  2018  ...                Primary education               Other Income\n",
              "23522  Uganda  2018  ...              Secondary education              Self employed\n",
              "23523  Uganda  2018  ...              Secondary education                  No Income\n",
              "\n",
              "[23524 rows x 13 columns]>"
            ]
          },
          "metadata": {
            "tags": []
          },
          "execution_count": 6
        }
      ]
    },
    {
      "cell_type": "markdown",
      "metadata": {
        "id": "F1QdOUhpKzDd"
      },
      "source": [
        "# 4 External Data Source Validation\n",
        "Checked the additional information to get a clearer picture of the data. Key points is the year of the different records (depending with country). The general minimum age (16yrs) so if there's any discrepancy then that is something to question(Anomaly)"
      ]
    },
    {
      "cell_type": "markdown",
      "metadata": {
        "id": "jSXu4pTQMsDL"
      },
      "source": [
        "# 5. Tidying the Dataset"
      ]
    },
    {
      "cell_type": "code",
      "metadata": {
        "colab": {
          "base_uri": "https://localhost:8080/",
          "height": 315
        },
        "id": "OBweQMtoMqEV",
        "outputId": "5c30ee95-0496-4cf2-dea4-e5c45d3caeb4"
      },
      "source": [
        "# Checking for Outliers & Anomalies\n",
        "fig, (ax1, ax2,ax3) = plt.subplots(1,3, figsize=(15, 4))\n",
        "fig.suptitle('Boxplots')\n",
        "sns.boxplot(data=f,x=f['Respondent Age'],ax=ax1, showmeans = True)\n",
        "sns.boxplot(data=f,x=f['household_size'],ax=ax2, showmeans = True)\n",
        "sns.boxplot(data=f,x=f['year'],ax=ax3, showmeans = True)\n"
      ],
      "execution_count": 7,
      "outputs": [
        {
          "output_type": "execute_result",
          "data": {
            "text/plain": [
              "<matplotlib.axes._subplots.AxesSubplot at 0x7efe14ad5490>"
            ]
          },
          "metadata": {
            "tags": []
          },
          "execution_count": 7
        },
        {
          "output_type": "display_data",
          "data": {
            "image/png": "[encoded data removed]",
            "text/plain": [
              "<Figure size 1080x288 with 3 Axes>"
            ]
          },
          "metadata": {
            "tags": [],
            "needs_background": "light"
          }
        }
      ]
    },
    {
      "cell_type": "code",
      "metadata": {
        "colab": {
          "base_uri": "https://localhost:8080/",
          "height": 167
        },
        "id": "OcJxi3SPS069",
        "outputId": "7edb4355-7ae9-434d-9657-2f8131cc9d5f"
      },
      "source": [
        "# Checking for Outliers & Anomalies\n",
        "#replacing\n",
        "f.loc[[213]]\n",
        "#213 is a Kenyan record so it should be 2018\n",
        "f.replace({'year': {2029: 2018}}, inplace= True)\n",
        "\n",
        "f.loc[[308]]\n",
        "#308 is a Kenyan record so it should be 2018\n",
        "f.replace({'year': {2056: 2018}}, inplace= True)\n",
        "\n",
        "#replacing\n",
        "f.loc[[7014]]\n",
        "#308 is a Rwandan record so it should be 2016\n",
        "f.replace({'year': {2039: 2016}}, inplace= True)\n",
        "f.loc[[7014]]"
      ],
      "execution_count": 8,
      "outputs": [
        {
          "output_type": "execute_result",
          "data": {
            "text/html": [
              "<div>\n",
              "<style scoped>\n",
              "    .dataframe tbody tr th:only-of-type {\n",
              "        vertical-align: middle;\n",
              "    }\n",
              "\n",
              "    .dataframe tbody tr th {\n",
              "        vertical-align: top;\n",
              "    }\n",
              "\n",
              "    .dataframe thead th {\n",
              "        text-align: right;\n",
              "    }\n",
              "</style>\n",
              "<table border=\"1\" class=\"dataframe\">\n",
              "  <thead>\n",
              "    <tr style=\"text-align: right;\">\n",
              "      <th></th>\n",
              "      <th>country</th>\n",
              "      <th>year</th>\n",
              "      <th>uniqueid</th>\n",
              "      <th>Has a Bank account</th>\n",
              "      <th>Type of Location</th>\n",
              "      <th>Cell Phone Access</th>\n",
              "      <th>household_size</th>\n",
              "      <th>Respondent Age</th>\n",
              "      <th>gender_of_respondent</th>\n",
              "      <th>The relathip with head</th>\n",
              "      <th>marital_status</th>\n",
              "      <th>Level of Educuation</th>\n",
              "      <th>Type of Job</th>\n",
              "    </tr>\n",
              "  </thead>\n",
              "  <tbody>\n",
              "    <tr>\n",
              "      <th>7014</th>\n",
              "      <td>Rwanda</td>\n",
              "      <td>2016</td>\n",
              "      <td>uniqueid_947</td>\n",
              "      <td>No</td>\n",
              "      <td>Rural</td>\n",
              "      <td>Yes</td>\n",
              "      <td>3.0</td>\n",
              "      <td>24.0</td>\n",
              "      <td>Female</td>\n",
              "      <td>Spouse</td>\n",
              "      <td>Married/Living together</td>\n",
              "      <td>Primary education</td>\n",
              "      <td>Informally employed</td>\n",
              "    </tr>\n",
              "  </tbody>\n",
              "</table>\n",
              "</div>"
            ],
            "text/plain": [
              "     country  year  ... Level of Educuation          Type of Job\n",
              "7014  Rwanda  2016  ...   Primary education  Informally employed\n",
              "\n",
              "[1 rows x 13 columns]"
            ]
          },
          "metadata": {
            "tags": []
          },
          "execution_count": 8
        }
      ]
    },
    {
      "cell_type": "code",
      "metadata": {
        "id": "H_uk2DN-zHBc"
      },
      "source": [
        "# Identifying the Missing Data\n",
        "#\n",
        "f.household_size=f['household_size'].fillna(value=f['household_size'].mean())\n",
        "f['Respondent Age']=f['Respondent Age'].fillna(value=f['Respondent Age'].mean())\n",
        "f=f.dropna()"
      ],
      "execution_count": 9,
      "outputs": []
    },
    {
      "cell_type": "code",
      "metadata": {
        "colab": {
          "base_uri": "https://localhost:8080/"
        },
        "id": "YenOHOX5z2zG",
        "outputId": "f0c0b594-097c-4b55-9764-50bfe4f6da61"
      },
      "source": [
        "# Identifying the Missing Data\n",
        "#\n",
        "f.isnull().any()"
      ],
      "execution_count": 10,
      "outputs": [
        {
          "output_type": "execute_result",
          "data": {
            "text/plain": [
              "country                   False\n",
              "year                      False\n",
              "uniqueid                  False\n",
              "Has a Bank account        False\n",
              "Type of Location          False\n",
              "Cell Phone Access         False\n",
              "household_size            False\n",
              "Respondent Age            False\n",
              "gender_of_respondent      False\n",
              "The relathip with head    False\n",
              "marital_status            False\n",
              "Level of Educuation       False\n",
              "Type of Job               False\n",
              "dtype: bool"
            ]
          },
          "metadata": {
            "tags": []
          },
          "execution_count": 10
        }
      ]
    },
    {
      "cell_type": "code",
      "metadata": {
        "colab": {
          "base_uri": "https://localhost:8080/"
        },
        "id": "BQLyr-46FSQ1",
        "outputId": "83821bac-e7e6-4d00-fdc6-a7d547c195f1"
      },
      "source": [
        "#Looking for duplicate values\n",
        "f.duplicated().sum"
      ],
      "execution_count": 11,
      "outputs": [
        {
          "output_type": "execute_result",
          "data": {
            "text/plain": [
              "<bound method Series.sum of 0        False\n",
              "1        False\n",
              "2        False\n",
              "3        False\n",
              "4        False\n",
              "         ...  \n",
              "23519    False\n",
              "23520    False\n",
              "23521    False\n",
              "23522    False\n",
              "23523    False\n",
              "Length: 23383, dtype: bool>"
            ]
          },
          "metadata": {
            "tags": []
          },
          "execution_count": 11
        }
      ]
    },
    {
      "cell_type": "code",
      "metadata": {
        "colab": {
          "base_uri": "https://localhost:8080/",
          "height": 504
        },
        "id": "rus8tS5O0Fpw",
        "outputId": "d3d50e07-d1eb-4b6c-f3a6-0f92a3f44b5a"
      },
      "source": [
        "# More data cleaning procedures\n",
        "#the column names and dropping unnecessary fields\n",
        "f.columns = f.columns.str.replace(' ', '_') \n",
        "f.columns = f.columns.str.strip() \n",
        "f.columns = f.columns.str.lower()\n",
        "#dropping column\n",
        "f.drop('uniqueid', axis=1, inplace=True)\n",
        "#rename column\n",
        "f.rename({'respondent_age': 'age','gender_of_respondent': 'gender','the_relathip_with_head': 'r_ship_with_head'}, axis=1, inplace=True)\n",
        "f.head()"
      ],
      "execution_count": 19,
      "outputs": [
        {
          "output_type": "stream",
          "text": [
            "/usr/local/lib/python3.7/dist-packages/pandas/core/frame.py:4174: SettingWithCopyWarning: \n",
            "A value is trying to be set on a copy of a slice from a DataFrame\n",
            "\n",
            "See the caveats in the documentation: https://pandas.pydata.org/pandas-docs/stable/user_guide/indexing.html#returning-a-view-versus-a-copy\n",
            "  errors=errors,\n",
            "/usr/local/lib/python3.7/dist-packages/pandas/core/frame.py:4308: SettingWithCopyWarning: \n",
            "A value is trying to be set on a copy of a slice from a DataFrame\n",
            "\n",
            "See the caveats in the documentation: https://pandas.pydata.org/pandas-docs/stable/user_guide/indexing.html#returning-a-view-versus-a-copy\n",
            "  errors=errors,\n"
          ],
          "name": "stderr"
        },
        {
          "output_type": "execute_result",
          "data": {
            "text/html": [
              "<div>\n",
              "<style scoped>\n",
              "    .dataframe tbody tr th:only-of-type {\n",
              "        vertical-align: middle;\n",
              "    }\n",
              "\n",
              "    .dataframe tbody tr th {\n",
              "        vertical-align: top;\n",
              "    }\n",
              "\n",
              "    .dataframe thead th {\n",
              "        text-align: right;\n",
              "    }\n",
              "</style>\n",
              "<table border=\"1\" class=\"dataframe\">\n",
              "  <thead>\n",
              "    <tr style=\"text-align: right;\">\n",
              "      <th></th>\n",
              "      <th>country</th>\n",
              "      <th>year</th>\n",
              "      <th>has_a_bank_account</th>\n",
              "      <th>type_of_location</th>\n",
              "      <th>cell_phone_access</th>\n",
              "      <th>household_size</th>\n",
              "      <th>age</th>\n",
              "      <th>gender</th>\n",
              "      <th>r_ship_with_head</th>\n",
              "      <th>marital_status</th>\n",
              "      <th>level_of_educuation</th>\n",
              "      <th>type_of_job</th>\n",
              "    </tr>\n",
              "  </thead>\n",
              "  <tbody>\n",
              "    <tr>\n",
              "      <th>0</th>\n",
              "      <td>Kenya</td>\n",
              "      <td>2018</td>\n",
              "      <td>Yes</td>\n",
              "      <td>Rural</td>\n",
              "      <td>Yes</td>\n",
              "      <td>3.0</td>\n",
              "      <td>24.0</td>\n",
              "      <td>Female</td>\n",
              "      <td>Spouse</td>\n",
              "      <td>Married/Living together</td>\n",
              "      <td>Secondary education</td>\n",
              "      <td>Self employed</td>\n",
              "    </tr>\n",
              "    <tr>\n",
              "      <th>1</th>\n",
              "      <td>Kenya</td>\n",
              "      <td>2018</td>\n",
              "      <td>No</td>\n",
              "      <td>Rural</td>\n",
              "      <td>No</td>\n",
              "      <td>5.0</td>\n",
              "      <td>70.0</td>\n",
              "      <td>Female</td>\n",
              "      <td>Head of Household</td>\n",
              "      <td>Widowed</td>\n",
              "      <td>No formal education</td>\n",
              "      <td>Government Dependent</td>\n",
              "    </tr>\n",
              "    <tr>\n",
              "      <th>2</th>\n",
              "      <td>Kenya</td>\n",
              "      <td>2018</td>\n",
              "      <td>Yes</td>\n",
              "      <td>Urban</td>\n",
              "      <td>Yes</td>\n",
              "      <td>5.0</td>\n",
              "      <td>26.0</td>\n",
              "      <td>Male</td>\n",
              "      <td>Other relative</td>\n",
              "      <td>Single/Never Married</td>\n",
              "      <td>Vocational/Specialised training</td>\n",
              "      <td>Self employed</td>\n",
              "    </tr>\n",
              "    <tr>\n",
              "      <th>3</th>\n",
              "      <td>Kenya</td>\n",
              "      <td>2018</td>\n",
              "      <td>No</td>\n",
              "      <td>Rural</td>\n",
              "      <td>Yes</td>\n",
              "      <td>5.0</td>\n",
              "      <td>34.0</td>\n",
              "      <td>Female</td>\n",
              "      <td>Head of Household</td>\n",
              "      <td>Married/Living together</td>\n",
              "      <td>Primary education</td>\n",
              "      <td>Formally employed Private</td>\n",
              "    </tr>\n",
              "    <tr>\n",
              "      <th>4</th>\n",
              "      <td>Kenya</td>\n",
              "      <td>2018</td>\n",
              "      <td>No</td>\n",
              "      <td>Urban</td>\n",
              "      <td>No</td>\n",
              "      <td>8.0</td>\n",
              "      <td>26.0</td>\n",
              "      <td>Male</td>\n",
              "      <td>Child</td>\n",
              "      <td>Single/Never Married</td>\n",
              "      <td>Primary education</td>\n",
              "      <td>Informally employed</td>\n",
              "    </tr>\n",
              "  </tbody>\n",
              "</table>\n",
              "</div>"
            ],
            "text/plain": [
              "  country  year  ...              level_of_educuation                type_of_job\n",
              "0   Kenya  2018  ...              Secondary education              Self employed\n",
              "1   Kenya  2018  ...              No formal education       Government Dependent\n",
              "2   Kenya  2018  ...  Vocational/Specialised training              Self employed\n",
              "3   Kenya  2018  ...                Primary education  Formally employed Private\n",
              "4   Kenya  2018  ...                Primary education        Informally employed\n",
              "\n",
              "[5 rows x 12 columns]"
            ]
          },
          "metadata": {
            "tags": []
          },
          "execution_count": 19
        }
      ]
    },
    {
      "cell_type": "markdown",
      "metadata": {
        "id": "SkwrH-gMAi1I"
      },
      "source": [
        "# 6 Exploratory Analysis"
      ]
    },
    {
      "cell_type": "markdown",
      "metadata": {
        "id": "34MbjfScDBN6"
      },
      "source": [
        "## Univariate Analysis"
      ]
    },
    {
      "cell_type": "code",
      "metadata": {
        "colab": {
          "base_uri": "https://localhost:8080/",
          "height": 288
        },
        "id": "I2syGj-a0FAz",
        "outputId": "16390358-3a2f-4488-ccf0-9ff5757d6b39"
      },
      "source": [
        "# Plotting the Univariate summaries and recording our observations\n",
        "#General statistics of the numerical data\n",
        "f.describe()"
      ],
      "execution_count": 20,
      "outputs": [
        {
          "output_type": "execute_result",
          "data": {
            "text/html": [
              "<div>\n",
              "<style scoped>\n",
              "    .dataframe tbody tr th:only-of-type {\n",
              "        vertical-align: middle;\n",
              "    }\n",
              "\n",
              "    .dataframe tbody tr th {\n",
              "        vertical-align: top;\n",
              "    }\n",
              "\n",
              "    .dataframe thead th {\n",
              "        text-align: right;\n",
              "    }\n",
              "</style>\n",
              "<table border=\"1\" class=\"dataframe\">\n",
              "  <thead>\n",
              "    <tr style=\"text-align: right;\">\n",
              "      <th></th>\n",
              "      <th>year</th>\n",
              "      <th>household_size</th>\n",
              "      <th>age</th>\n",
              "    </tr>\n",
              "  </thead>\n",
              "  <tbody>\n",
              "    <tr>\n",
              "      <th>count</th>\n",
              "      <td>23383.000000</td>\n",
              "      <td>23383.000000</td>\n",
              "      <td>23383.000000</td>\n",
              "    </tr>\n",
              "    <tr>\n",
              "      <th>mean</th>\n",
              "      <td>2016.977077</td>\n",
              "      <td>3.688478</td>\n",
              "      <td>38.803202</td>\n",
              "    </tr>\n",
              "    <tr>\n",
              "      <th>std</th>\n",
              "      <td>0.848999</td>\n",
              "      <td>2.280123</td>\n",
              "      <td>16.515560</td>\n",
              "    </tr>\n",
              "    <tr>\n",
              "      <th>min</th>\n",
              "      <td>2016.000000</td>\n",
              "      <td>0.000000</td>\n",
              "      <td>16.000000</td>\n",
              "    </tr>\n",
              "    <tr>\n",
              "      <th>25%</th>\n",
              "      <td>2016.000000</td>\n",
              "      <td>2.000000</td>\n",
              "      <td>26.000000</td>\n",
              "    </tr>\n",
              "    <tr>\n",
              "      <th>50%</th>\n",
              "      <td>2017.000000</td>\n",
              "      <td>3.000000</td>\n",
              "      <td>35.000000</td>\n",
              "    </tr>\n",
              "    <tr>\n",
              "      <th>75%</th>\n",
              "      <td>2018.000000</td>\n",
              "      <td>5.000000</td>\n",
              "      <td>49.000000</td>\n",
              "    </tr>\n",
              "    <tr>\n",
              "      <th>max</th>\n",
              "      <td>2018.000000</td>\n",
              "      <td>21.000000</td>\n",
              "      <td>100.000000</td>\n",
              "    </tr>\n",
              "  </tbody>\n",
              "</table>\n",
              "</div>"
            ],
            "text/plain": [
              "               year  household_size           age\n",
              "count  23383.000000    23383.000000  23383.000000\n",
              "mean    2016.977077        3.688478     38.803202\n",
              "std        0.848999        2.280123     16.515560\n",
              "min     2016.000000        0.000000     16.000000\n",
              "25%     2016.000000        2.000000     26.000000\n",
              "50%     2017.000000        3.000000     35.000000\n",
              "75%     2018.000000        5.000000     49.000000\n",
              "max     2018.000000       21.000000    100.000000"
            ]
          },
          "metadata": {
            "tags": []
          },
          "execution_count": 20
        }
      ]
    },
    {
      "cell_type": "code",
      "metadata": {
        "id": "XFGQnJ6kEHJ9",
        "colab": {
          "base_uri": "https://localhost:8080/"
        },
        "outputId": "ecc98342-032f-46fd-b8f7-0ba569b63102"
      },
      "source": [
        "f.nunique()"
      ],
      "execution_count": 21,
      "outputs": [
        {
          "output_type": "execute_result",
          "data": {
            "text/plain": [
              "country                 4\n",
              "year                    3\n",
              "has_a_bank_account      2\n",
              "type_of_location        2\n",
              "cell_phone_access       2\n",
              "household_size         22\n",
              "age                    86\n",
              "gender                  2\n",
              "r_ship_with_head        6\n",
              "marital_status          5\n",
              "level_of_educuation     7\n",
              "type_of_job            10\n",
              "dtype: int64"
            ]
          },
          "metadata": {
            "tags": []
          },
          "execution_count": 21
        }
      ]
    },
    {
      "cell_type": "code",
      "metadata": {
        "colab": {
          "base_uri": "https://localhost:8080/"
        },
        "id": "hJJmj9JkIvQ8",
        "outputId": "04735315-a3b2-41df-dfcf-bb84b05c3e0a"
      },
      "source": [
        "#Measures of central tendency and dispersion\n",
        "#Using Age as this is the independent variable that we propose influences the dependent variable(Has a bank account)\n",
        "print(f'Min: {f.age.min()}')\n",
        "print(f'Q1: {f.age.quantile(.25)}')\n",
        "print(f'Q2: {f.age.quantile(.50)}')\n",
        "print(f'Q3: {f.age.quantile(.75)}')\n",
        "print(f'Max: {f.age.max()}')\n",
        "print(f'Mean: {f.age.mean()}')\n",
        "print(f'Median: {f.age.median()}')\n",
        "print(f'Mode: {f.age.mode().values[0]}')\n",
        "print(f'Skew: {f.age.skew()}')\n",
        "print(f'Kurtosis: {f.age.kurt()}')"
      ],
      "execution_count": 22,
      "outputs": [
        {
          "output_type": "stream",
          "text": [
            "Min: 16.0\n",
            "Q1: 26.0\n",
            "Q2: 35.0\n",
            "Q3: 49.0\n",
            "Max: 100.0\n",
            "Mean: 38.80320239893677\n",
            "Median: 35.0\n",
            "Mode: 30.0\n",
            "Skew: 0.8421293556879087\n",
            "Kurtosis: 0.104461837582694\n"
          ],
          "name": "stdout"
        }
      ]
    },
    {
      "cell_type": "code",
      "metadata": {
        "colab": {
          "base_uri": "https://localhost:8080/",
          "height": 385
        },
        "id": "fCZI0b8PJpVV",
        "outputId": "b240dfa3-665b-4e39-dfc8-564c32858010"
      },
      "source": [
        "#Visual look at the age data\n",
        "sns.displot(f['age'], kind='hist',bins=10, kde=False)\n",
        "plt.ylabel(\"Frequency\")\n",
        "plt.xlabel(\"Age of the Respondent\")\n",
        "plt.title(\"Age Frequency Histogram\")\n",
        "plt.show()"
      ],
      "execution_count": 23,
      "outputs": [
        {
          "output_type": "display_data",
          "data": {
            "image/png": "[encoded data removed]",
            "text/plain": [
              "<Figure size 360x360 with 1 Axes>"
            ]
          },
          "metadata": {
            "tags": [],
            "needs_background": "light"
          }
        }
      ]
    },
    {
      "cell_type": "code",
      "metadata": {
        "colab": {
          "base_uri": "https://localhost:8080/"
        },
        "id": "D8SeA23OLGwB",
        "outputId": "ffcaff42-0b21-4d20-bf61-a5e7ab11f7cc"
      },
      "source": [
        "#Measures of central tendency and dispersion\n",
        "#Using Household size because it could also be an indicator of the dependent variable(Has a bank account)\n",
        "print(f'Min: {f.age.min()}')\n",
        "print(f'Q1: {f.age.quantile(.25)}')\n",
        "print(f'Q2: {f.age.quantile(.50)}')\n",
        "print(f'Q3: {f.age.quantile(.75)}')\n",
        "print(f'Max: {f.age.max()}')\n",
        "print(f'Mean: {f.age.mean()}')\n",
        "print(f'Median: {f.age.median()}')\n",
        "print(f'Mode: {f.age.mode().values[0]}')\n",
        "print(f'Skew: {f.age.skew()}')\n",
        "print(f'Kurtosis: {f.age.kurt()}')"
      ],
      "execution_count": 24,
      "outputs": [
        {
          "output_type": "stream",
          "text": [
            "Min: 16.0\n",
            "Q1: 26.0\n",
            "Q2: 35.0\n",
            "Q3: 49.0\n",
            "Max: 100.0\n",
            "Mean: 38.80320239893677\n",
            "Median: 35.0\n",
            "Mode: 30.0\n",
            "Skew: 0.8421293556879087\n",
            "Kurtosis: 0.104461837582694\n"
          ],
          "name": "stdout"
        }
      ]
    },
    {
      "cell_type": "code",
      "metadata": {
        "colab": {
          "base_uri": "https://localhost:8080/",
          "height": 384
        },
        "id": "pxKB0zKGLgM8",
        "outputId": "afaf4bca-94a9-499c-c0d8-32a34d12747f"
      },
      "source": [
        "#Visual look at the age data\n",
        "sns.displot(f['household_size'], kind='hist',bins=10, kde=False)\n",
        "plt.ylabel(\"Count\")\n",
        "plt.xlabel(\"Number of Persons in Household\")\n",
        "plt.title(\"Number of People in Household Histogram\")\n",
        "plt.show()"
      ],
      "execution_count": 25,
      "outputs": [
        {
          "output_type": "display_data",
          "data": {
            "image/png": "[encoded data removed]",
            "text/plain": [
              "<Figure size 360x360 with 1 Axes>"
            ]
          },
          "metadata": {
            "tags": [],
            "needs_background": "light"
          }
        }
      ]
    },
    {
      "cell_type": "code",
      "metadata": {
        "colab": {
          "base_uri": "https://localhost:8080/",
          "height": 264
        },
        "id": "8x0rxxSnNwao",
        "outputId": "42d3fe41-8fe3-4749-d6c3-c883d863e395"
      },
      "source": [
        "\n",
        "#pie chart for countries\n",
        "explode = (0.1, 0, 0, 0) \n",
        "f.country.value_counts().plot(kind='pie',autopct='%1.1f%%', explode=explode, shadow = True, startangle = 140 )\n",
        "\n",
        "plt.axis('equal')\n",
        "plt.title('Pie chart of percentage respondents per country')\n",
        "plt.show()\n",
        "#We can conclude that Rwanda has the highest number of respondents in this study at 37.2% and Uganda the lowest at 9.0%"
      ],
      "execution_count": 26,
      "outputs": [
        {
          "output_type": "display_data",
          "data": {
            "image/png": "[encoded data removed]",
            "text/plain": [
              "<Figure size 432x288 with 1 Axes>"
            ]
          },
          "metadata": {
            "tags": []
          }
        }
      ]
    },
    {
      "cell_type": "markdown",
      "metadata": {
        "id": "0NSDQuMhFOGN"
      },
      "source": [
        "\n",
        "# Bivariate Analysis"
      ]
    },
    {
      "cell_type": "code",
      "metadata": {
        "id": "U6yjVYzEFsJc",
        "colab": {
          "base_uri": "https://localhost:8080/",
          "height": 270
        },
        "outputId": "b56c7549-d5c0-41ed-edef-cc2fdb62002a"
      },
      "source": [
        "# Ploting the bivariate summaries and recording our observations\n",
        "#Numerical to Numerical:Correlation\n",
        "#checking correlations\n",
        "sns.heatmap(f.corr(),annot=True)\n",
        "plt.show()"
      ],
      "execution_count": 27,
      "outputs": [
        {
          "output_type": "display_data",
          "data": {
            "image/png": "[encoded data removed]",
            "text/plain": [
              "<Figure size 432x288 with 2 Axes>"
            ]
          },
          "metadata": {
            "tags": [],
            "needs_background": "light"
          }
        }
      ]
    },
    {
      "cell_type": "code",
      "metadata": {
        "colab": {
          "base_uri": "https://localhost:8080/",
          "height": 296
        },
        "id": "GHohkGzCR8jO",
        "outputId": "d5f0c2d6-14c3-41e7-ddd9-0c23a68bf3fe"
      },
      "source": [
        "#Plotting scatter plots\n",
        "plt.scatter(f[\"household_size\"] , f[\"age\"])\n",
        "\n",
        "# Giving our scatterplot a title\n",
        "plt.title('Household size vs Age')\n",
        "\n",
        "# Labelling our x axis\n",
        "plt.xlabel('Household_size')\n",
        "\n",
        "# Labelling our y axis\n",
        "plt.ylabel('Age')\n",
        "\n",
        "# We then display our scatterplot as shown below\n",
        "plt.show()"
      ],
      "execution_count": 29,
      "outputs": [
        {
          "output_type": "display_data",
          "data": {
            "image/png": "[encoded data removed]",
            "text/plain": [
              "<Figure size 432x288 with 1 Axes>"
            ]
          },
          "metadata": {
            "tags": [],
            "needs_background": "light"
          }
        }
      ]
    },
    {
      "cell_type": "code",
      "metadata": {
        "colab": {
          "base_uri": "https://localhost:8080/",
          "height": 302
        },
        "id": "NCpBBxboTd9y",
        "outputId": "f234dfce-5bb9-44d0-fe85-5dabcf73bfdd"
      },
      "source": [
        "#Gender most likely to own a bank account\n",
        "g = f.groupby('has_a_bank_account')['gender'].value_counts(normalize=True).unstack()\n",
        "g.plot(kind='bar', stacked='True',title=str(ax1))\n",
        "\n",
        "# labeling our y axis\n",
        "plt.ylabel(\"Frequency\")\n",
        "\n",
        "# Creating a key/legend for our chart\n",
        "plt.legend(loc=\"upper right\")\n",
        "\n",
        "# Adding a title\n",
        "plt.title(\"Gender most likely to own a bank account\")\n",
        "\n",
        "# Displaying our chart\n",
        "plt.show()\n",
        "\n",
        "#We see that the difference between the males and females who own a bank account is significant. \n",
        "#The number of Males who own a bank account is significantly more than females."
      ],
      "execution_count": 30,
      "outputs": [
        {
          "output_type": "display_data",
          "data": {
            "image/png": "[encoded data removed]",
            "text/plain": [
              "<Figure size 432x288 with 1 Axes>"
            ]
          },
          "metadata": {
            "tags": [],
            "needs_background": "light"
          }
        }
      ]
    },
    {
      "cell_type": "code",
      "metadata": {
        "colab": {
          "base_uri": "https://localhost:8080/",
          "height": 431
        },
        "id": "VhS_wcNWVw8K",
        "outputId": "a7833f80-0000-4a36-b8c3-ec3ad29f1953"
      },
      "source": [
        "#Numerical-Categorical Variables\n",
        "#create Age groups\n",
        "\n",
        "bins= [10,20,30,50,80,100]\n",
        "labels = ['Teen','Youth','Adult','Senior Citizen','Very old']\n",
        "f['AgeGroup'] = pd.cut(f['age'], bins=bins, labels=labels, right=False)\n",
        "f\n",
        "#People from which AgeGroup are most likely to own a bank account\n",
        "ax6 = f.groupby('has_a_bank_account')['AgeGroup'].value_counts(normalize=True).unstack()\n",
        "ax6.plot(kind='bar', stacked='True',title=str(ax1))\n",
        "\n",
        "# labeling our y axis\n",
        "plt.ylabel(\"Frequency\")\n",
        "\n",
        "# Creating a key/legend for our chart\n",
        "plt.legend(loc='center left',bbox_to_anchor=(1.0, 0.5));\n",
        "\n",
        "# Adding a title\n",
        "plt.title(\"Age groups\")\n",
        "\n",
        "# Displaying our chart\n",
        "plt.show()"
      ],
      "execution_count": 33,
      "outputs": [
        {
          "output_type": "stream",
          "text": [
            "/usr/local/lib/python3.7/dist-packages/ipykernel_launcher.py:6: SettingWithCopyWarning: \n",
            "A value is trying to be set on a copy of a slice from a DataFrame.\n",
            "Try using .loc[row_indexer,col_indexer] = value instead\n",
            "\n",
            "See the caveats in the documentation: https://pandas.pydata.org/pandas-docs/stable/user_guide/indexing.html#returning-a-view-versus-a-copy\n",
            "  \n"
          ],
          "name": "stderr"
        },
        {
          "output_type": "display_data",
          "data": {
            "image/png": "[encoded data removed]",
            "text/plain": [
              "<Figure size 432x288 with 1 Axes>"
            ]
          },
          "metadata": {
            "tags": [],
            "needs_background": "light"
          }
        }
      ]
    },
    {
      "cell_type": "markdown",
      "metadata": {
        "id": "k2z0cD9UYsAR"
      },
      "source": [
        "# Multivariate Analysis"
      ]
    },
    {
      "cell_type": "code",
      "metadata": {
        "id": "Tx4dqn4dY6g_"
      },
      "source": [
        "#Converting datatypes\n",
        "#convert column year from int64 to datetime\n",
        "#and residence to category\n",
        "f['country'] = f['country'].astype('category')\n",
        "f['has_a_bank_account'] = f['has_a_bank_account'].astype('category')\n",
        "f['type_of_location'] = f['type_of_location'].astype('category')\n",
        "f['gender'] = f['gender'].astype('category')\n",
        "f['level_of_education'] = f['level_of_educuation'].astype('category')\n",
        "f['type_of_job'] = f['type_of_job'].astype('category')"
      ],
      "execution_count": null,
      "outputs": []
    },
    {
      "cell_type": "code",
      "metadata": {
        "colab": {
          "base_uri": "https://localhost:8080/"
        },
        "id": "GgL_uWqatYEi",
        "outputId": "06bd7b68-076d-4f7f-8654-6ada07d142dc"
      },
      "source": [
        "df= f.copy()\n",
        "df.head(3)\n",
        "to_nums = {\"has_a_bank_account\": {\"Yes\": 1, \"No\": 0},\n",
        "           \"type_of_location\": {\"Rural\": 0, \"Urban\": 1},\n",
        "           \"gender_of_respondent\": {\"Female\": 2, \"Male\": 3}}\n",
        "df.replace(to_nums, inplace=True)\n",
        "import scipy.stats as stats\n",
        "x = df['has_a_bank_account']\n",
        "y = df['age']\n",
        "stats.pointbiserialr(x, y)\n",
        "#There is close to no linear correlation between age and having a bank account\n"
      ],
      "execution_count": 57,
      "outputs": [
        {
          "output_type": "execute_result",
          "data": {
            "text/plain": [
              "PointbiserialrResult(correlation=0.01956960652068731, pvalue=0.0027660012475827192)"
            ]
          },
          "metadata": {
            "tags": []
          },
          "execution_count": 57
        }
      ]
    },
    {
      "cell_type": "code",
      "metadata": {
        "colab": {
          "base_uri": "https://localhost:8080/"
        },
        "id": "oHTrLBLD0phl",
        "outputId": "fdb89f44-e1e1-4b73-a921-d2f62841d785"
      },
      "source": [
        "x = df['has_a_bank_account']\n",
        "y = df['household_size']\n",
        "stats.pointbiserialr(x, y)\n",
        "#There is no linear correlation between householdd size and having a bank account"
      ],
      "execution_count": 58,
      "outputs": [
        {
          "output_type": "execute_result",
          "data": {
            "text/plain": [
              "PointbiserialrResult(correlation=-0.02292700548885654, pvalue=0.0004546275608440352)"
            ]
          },
          "metadata": {
            "tags": []
          },
          "execution_count": 58
        }
      ]
    },
    {
      "cell_type": "code",
      "metadata": {
        "colab": {
          "base_uri": "https://localhost:8080/"
        },
        "id": "iMC3G37H00Qf",
        "outputId": "99adf57e-e099-4ce6-bf9a-c6acfa99f515"
      },
      "source": [
        "x = df['has_a_bank_account']\n",
        "z = df['gender_of_respondent']\n",
        "stats.pointbiserialr(x, z)\n",
        "#There is a weak correlation between gender and having a bank account"
      ],
      "execution_count": 62,
      "outputs": [
        {
          "output_type": "execute_result",
          "data": {
            "text/plain": [
              "PointbiserialrResult(correlation=0.11665703447163422, pvalue=1.2049643329998852e-71)"
            ]
          },
          "metadata": {
            "tags": []
          },
          "execution_count": 62
        }
      ]
    },
    {
      "cell_type": "markdown",
      "metadata": {
        "id": "LIUniFYz4V6i"
      },
      "source": [
        "Reduction Techniques"
      ]
    },
    {
      "cell_type": "code",
      "metadata": {
        "id": "Rcc9j0F11xLB"
      },
      "source": [
        "#LDA using the dataset fin_df2\n",
        "#dividing data into labels and feature set\n",
        "\n",
        "x = f.iloc[:, 5:6].values\n",
        "y = f.iloc[:, 2].values\n",
        "x\n",
        "y\n",
        "\n",
        "from sklearn.model_selection import train_test_split\n",
        "x_train, x_test, y_train, y_test = train_test_split(x, y, test_size=0.2, random_state=0)\n",
        "\n",
        "from sklearn.discriminant_analysis import LinearDiscriminantAnalysis as LDA\n",
        "lda = LDA(n_components=1)\n",
        "x_train = lda.fit_transform(x_train, y_train)\n",
        "x_test = lda.transform(x_test)"
      ],
      "execution_count": 63,
      "outputs": []
    },
    {
      "cell_type": "code",
      "metadata": {
        "id": "H4wqcOOp4sCQ"
      },
      "source": [
        "#dividing data into training and test sets\n",
        "from sklearn.model_selection import train_test_split\n",
        "x_train, x_test, y_train, y_test = train_test_split(x, y, test_size=0.2, random_state=0)\n",
        "\n",
        "#Feature scaling\n",
        "#performing feature scaling:\n",
        "# \n",
        "from sklearn.preprocessing import StandardScaler\n",
        "sc = StandardScaler()\n",
        "x_train = sc.fit_transform(x_train)\n",
        "x_test = sc.transform(x_test)"
      ],
      "execution_count": 64,
      "outputs": []
    },
    {
      "cell_type": "code",
      "metadata": {
        "colab": {
          "base_uri": "https://localhost:8080/"
        },
        "id": "RtZxNRXm5QA5",
        "outputId": "6e886872-5a82-4ea5-c8f4-728290114923"
      },
      "source": [
        "#performing LDA with Scikit-Learn\n",
        "from sklearn.discriminant_analysis import LinearDiscriminantAnalysis as LDA\n",
        "lda = LDA(n_components=1)\n",
        "x_train = lda.fit_transform(x_train, y_train)\n",
        "x_test = lda.transform(x_test)\n",
        "print(x_test)\n",
        "print(x_train)"
      ],
      "execution_count": 66,
      "outputs": [
        {
          "output_type": "stream",
          "text": [
            "[[ 1.01111069]\n",
            " [ 0.13484223]\n",
            " [ 0.57297646]\n",
            " ...\n",
            " [ 1.44924492]\n",
            " [-0.74142623]\n",
            " [-0.303292  ]]\n",
            "[[-1.17956046]\n",
            " [ 0.13484223]\n",
            " [ 1.88737915]\n",
            " ...\n",
            " [-0.74142623]\n",
            " [-0.74142623]\n",
            " [-0.74142623]]\n"
          ],
          "name": "stdout"
        }
      ]
    },
    {
      "cell_type": "code",
      "metadata": {
        "id": "LsyUAOP-5sN0"
      },
      "source": [
        "#Training and Making Predictions\n",
        "#using the random forest classifier to evaluate the performance of a LDA-reduced algorithms\n",
        "from sklearn.ensemble import RandomForestClassifier\n",
        "\n",
        "classifier = RandomForestClassifier(max_depth=2, random_state=0)\n",
        "classifier.fit(x_train, y_train)\n",
        "y_pred = classifier.predict(x_test)"
      ],
      "execution_count": 67,
      "outputs": []
    },
    {
      "cell_type": "code",
      "metadata": {
        "colab": {
          "base_uri": "https://localhost:8080/"
        },
        "id": "mQsrMS3e5u2y",
        "outputId": "6d780b7b-3b0c-4a44-fcbf-19c41f806422"
      },
      "source": [
        "# Evaluating the Performance\n",
        "# with the help of a confusion matrix and find the accuracy of the prediction.\n",
        "\n",
        "\n",
        "from sklearn.metrics import confusion_matrix\n",
        "from sklearn.metrics import accuracy_score\n",
        "\n",
        "cm = confusion_matrix(y_test, y_pred)\n",
        "print(cm)\n",
        "print('Accuracy' + str(accuracy_score(y_test, y_pred)))\n",
        "\n",
        "# We can see that with one linear discriminant, the algorithm achieved the same level of accuracy as the\n",
        "# one achieved with one principal component."
      ],
      "execution_count": 68,
      "outputs": [
        {
          "output_type": "stream",
          "text": [
            "[[4027    0]\n",
            " [ 650    0]]\n",
            "Accuracy0.8610220226641009\n"
          ],
          "name": "stdout"
        }
      ]
    },
    {
      "cell_type": "markdown",
      "metadata": {
        "id": "AK7YzhUi7oWq"
      },
      "source": [
        "# 7 Challenging the solution"
      ]
    },
    {
      "cell_type": "markdown",
      "metadata": {
        "id": "p_lpcT3DBfLW"
      },
      "source": [
        "Summary"
      ]
    },
    {
      "cell_type": "markdown",
      "metadata": {
        "id": "guwSXsWlBo6u"
      },
      "source": [
        "\n",
        "\n",
        "1.   The difference between the males and females who own a bank account is significant. The number of Males who own a bank account is significantly more than females\n",
        "2.   Individuals who are self employed are most likely to have a bank account and those who are informally employed are less likely to have a bank account\n",
        "3. Individuals from urban setup are most likely to have a bank account and those from rural areas are less likely to have a bank account\n",
        "4. Individuals with a secondary education are most likely to have a bank account and those with a primary level education are less likely to have a bank account\n",
        "5. Individuals from Kenya are most likely to have a bank account and those Uganda are less likely to have a bank account\n",
        "6. Individuals between the ages of 30-50, adults are most likely to have a bank account and those above 80years are less likely to have a bank account\n",
        "7.Reduction Technique was Linear Discriminant Analysis and the model achieved an accuracy of 86.10%.\n"
      ]
    },
    {
      "cell_type": "markdown",
      "metadata": {
        "id": "e-8G5iAQDAkC"
      },
      "source": [
        "# 8 Follow up questions\n",
        "We need to look at the economic factors and the government policies influencing the peoples' decision to opening a bank account.\n",
        "\n"
      ]
    },
    {
      "cell_type": "markdown",
      "metadata": {
        "id": "DrTorCKUDoyl"
      },
      "source": [
        "a). Did we have the right data?\n",
        "\n",
        "\n",
        "*   Yes\n",
        "\n",
        "\n"
      ]
    },
    {
      "cell_type": "markdown",
      "metadata": {
        "id": "xW8OZSIeEGCe"
      },
      "source": [
        " b) Do we need other data to answer our question?\n",
        "The data was able to answer our research question\n",
        "\n",
        "*   The data was able to answer our research question\n",
        "\n",
        "\n"
      ]
    },
    {
      "cell_type": "markdown",
      "metadata": {
        "id": "khZiBpuVEap2"
      },
      "source": [
        "c). Did we have the right question?\n",
        "\n",
        "\n",
        "*   Yes\n",
        "\n"
      ]
    }
  ]
}